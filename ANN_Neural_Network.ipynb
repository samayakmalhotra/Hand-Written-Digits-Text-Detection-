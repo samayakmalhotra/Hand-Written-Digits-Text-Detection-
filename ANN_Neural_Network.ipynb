{
  "nbformat": 4,
  "nbformat_minor": 0,
  "metadata": {
    "colab": {
      "provenance": [],
      "authorship_tag": "ABX9TyMorpceonQ/Gh/pjEWd+t5n"
    },
    "kernelspec": {
      "name": "python3",
      "display_name": "Python 3"
    },
    "language_info": {
      "name": "python"
    }
  },
  "cells": [
    {
      "cell_type": "code",
      "execution_count": null,
      "metadata": {
        "id": "HVI_2wAntK5N"
      },
      "outputs": [],
      "source": [
        "#Importing Libraries\n",
        "import numpy as np\n",
        "import pandas as pd\n",
        "import tensorflow as tf\n",
        "from tensorflow import keras\n",
        "from sklearn.model_selection import train_test_split"
      ]
    },
    {
      "cell_type": "code",
      "source": [
        "#Layers, Datasets to Download the mnist data, utilities to covert Y t one hot encoded data"
      ],
      "metadata": {
        "id": "qcjNfzR9tvDm"
      },
      "execution_count": null,
      "outputs": []
    },
    {
      "cell_type": "code",
      "source": [
        "#Importing Layers for building ANN\n",
        "from keras.models import Sequential\n",
        "from keras.layers import Dense"
      ],
      "metadata": {
        "id": "F2OVS4yVuLAl"
      },
      "execution_count": null,
      "outputs": []
    },
    {
      "cell_type": "code",
      "source": [
        "(X_train, y_train), (X_test, y_test) = mnist.load_data()"
      ],
      "metadata": {
        "id": "uYqja3YZuVJ1"
      },
      "execution_count": null,
      "outputs": []
    },
    {
      "cell_type": "markdown",
      "source": [
        "One-hot encoding is a technique used to represent categorical data (such as class labels) as numerical data in machine learning models.\n",
        "\n",
        "In one-hot encoding, each categorical value is converted into a binary vector of zeros and ones. The length of the binary vector is equal to the number of possible categorical values. Each position in the vector corresponds to a possible categorical value, and it is set to 1 if the original value matches that position, and 0 otherwise.\n",
        "\n",
        "For example, suppose you have three categorical values: \"red\", \"green\", and \"blue\". To one-hot encode these values, you would create a binary vector of length 3 for each value, where the vector has a 1 in the position corresponding to the color, and 0s elsewhere. For instance, \"red\" would be represented as [1, 0, 0], \"green\" as [0, 1, 0], and \"blue\" as [0, 0, 1]."
      ],
      "metadata": {
        "id": "vMj5JKKmvNmU"
      }
    },
    {
      "cell_type": "code",
      "source": [
        "# Print the shape of Y\n",
        "print(\"Shape of Y (Training set): \", y_train.shape)\n",
        "print(\"Shape of Y (Test set): \", y_test.shape)\n",
        "\n",
        "# Print the first 10 Y values\n",
        "print(\"First 10 Y values (Training set): \", y_train[:10])\n",
        "print(\"First 10 Y values (Test set): \", y_test[:10])"
      ],
      "metadata": {
        "colab": {
          "base_uri": "https://localhost:8080/"
        },
        "id": "pjP2jlSmusIs",
        "outputId": "2275c97a-0c06-4945-b23c-892e2779e4b4"
      },
      "execution_count": null,
      "outputs": [
        {
          "output_type": "stream",
          "name": "stdout",
          "text": [
            "Shape of Y (Training set):  (60000,)\n",
            "Shape of Y (Test set):  (10000,)\n",
            "First 10 Y values (Training set):  [5 0 4 1 9 2 1 3 1 4]\n",
            "First 10 Y values (Test set):  [7 2 1 0 4 1 4 9 5 9]\n"
          ]
        }
      ]
    },
    {
      "cell_type": "code",
      "source": [
        "#Plot samples of images  in Matplot Lib\n",
        "import matplotlib.pyplot as plt\n",
        "from keras.datasets import mnist\n",
        "\n",
        "# Plot the first 9 images in the training set\n",
        "fig, axes = plt.subplots(nrows=5, ncols=5, figsize=(9,9))\n",
        "for i, ax in enumerate(axes.flat):\n",
        "    ax.imshow(X_train[i], cmap='gray')\n",
        "    ax.set_xticks([])\n",
        "    ax.set_yticks([])\n",
        "    ax.set_title(y_train[i])\n",
        "plt.show()"
      ],
      "metadata": {
        "colab": {
          "base_uri": "https://localhost:8080/",
          "height": 540
        },
        "id": "oH4HBrC0vk0M",
        "outputId": "8b7ac387-9e9c-4e84-f1e0-e9eb702c1d2a"
      },
      "execution_count": null,
      "outputs": [
        {
          "output_type": "display_data",
          "data": {
            "text/plain": [
              "<Figure size 648x648 with 25 Axes>"
            ],
            "image/png": "[encoded data removed]"
          },
          "metadata": {}
        }
      ]
    },
    {
      "cell_type": "code",
      "source": [
        "from keras.utils import to_categorical\n",
        "y_train = to_categorical(y_train)\n",
        "y_test = to_categorical(y_test)"
      ],
      "metadata": {
        "id": "brfZX4NEypis"
      },
      "execution_count": null,
      "outputs": []
    },
    {
      "cell_type": "code",
      "source": [
        "# Print the first 10 Y values\n",
        "print(\"First 10 Y values (Training set): \", y_train[:10])\n",
        "print(\"First 10 Y values (Test set): \", y_test[:10])"
      ],
      "metadata": {
        "colab": {
          "base_uri": "https://localhost:8080/"
        },
        "id": "fcwEDtyo041k",
        "outputId": "b2b7fd4e-57b6-4727-fabd-ed32568bda4a"
      },
      "execution_count": null,
      "outputs": [
        {
          "output_type": "stream",
          "name": "stdout",
          "text": [
            "First 10 Y values (Training set):  [[0. 0. 0. 0. 0. 1. 0. 0. 0. 0.]\n",
            " [1. 0. 0. 0. 0. 0. 0. 0. 0. 0.]\n",
            " [0. 0. 0. 0. 1. 0. 0. 0. 0. 0.]\n",
            " [0. 1. 0. 0. 0. 0. 0. 0. 0. 0.]\n",
            " [0. 0. 0. 0. 0. 0. 0. 0. 0. 1.]\n",
            " [0. 0. 1. 0. 0. 0. 0. 0. 0. 0.]\n",
            " [0. 1. 0. 0. 0. 0. 0. 0. 0. 0.]\n",
            " [0. 0. 0. 1. 0. 0. 0. 0. 0. 0.]\n",
            " [0. 1. 0. 0. 0. 0. 0. 0. 0. 0.]\n",
            " [0. 0. 0. 0. 1. 0. 0. 0. 0. 0.]]\n",
            "First 10 Y values (Test set):  [[0. 0. 0. 0. 0. 0. 0. 1. 0. 0.]\n",
            " [0. 0. 1. 0. 0. 0. 0. 0. 0. 0.]\n",
            " [0. 1. 0. 0. 0. 0. 0. 0. 0. 0.]\n",
            " [1. 0. 0. 0. 0. 0. 0. 0. 0. 0.]\n",
            " [0. 0. 0. 0. 1. 0. 0. 0. 0. 0.]\n",
            " [0. 1. 0. 0. 0. 0. 0. 0. 0. 0.]\n",
            " [0. 0. 0. 0. 1. 0. 0. 0. 0. 0.]\n",
            " [0. 0. 0. 0. 0. 0. 0. 0. 0. 1.]\n",
            " [0. 0. 0. 0. 0. 1. 0. 0. 0. 0.]\n",
            " [0. 0. 0. 0. 0. 0. 0. 0. 0. 1.]]\n"
          ]
        }
      ]
    },
    {
      "cell_type": "code",
      "source": [
        "# Flatten the 28x28 images into a 784-dimensional vector\n",
        "X_train = X_train.reshape(-1, 784)\n",
        "X_test = X_test.reshape(-1, 784)\n",
        "\n",
        "# Build a neural network with one hidden layer\n",
        "model = Sequential()\n",
        "model.add(Dense(128, activation='relu', input_dim=784))\n",
        "model.add(Dense(10, activation='softmax'))\n",
        "\n",
        "# Compile the model with categorical cross-entropy loss and Adam optimizer\n",
        "model.compile(loss='categorical_crossentropy', optimizer='adam', metrics=['accuracy'])"
      ],
      "metadata": {
        "id": "y2BmRHT-1AUT"
      },
      "execution_count": null,
      "outputs": []
    },
    {
      "cell_type": "code",
      "source": [
        "print(model.summary())"
      ],
      "metadata": {
        "colab": {
          "base_uri": "https://localhost:8080/"
        },
        "id": "1AF2EgmS1Grz",
        "outputId": "ac31926e-5fc6-455b-eed3-a11ecd544a82"
      },
      "execution_count": null,
      "outputs": [
        {
          "output_type": "stream",
          "name": "stdout",
          "text": [
            "Model: \"sequential\"\n",
            "_________________________________________________________________\n",
            " Layer (type)                Output Shape              Param #   \n",
            "=================================================================\n",
            " dense (Dense)               (None, 128)               100480    \n",
            "                                                                 \n",
            " dense_1 (Dense)             (None, 10)                1290      \n",
            "                                                                 \n",
            "=================================================================\n",
            "Total params: 101,770\n",
            "Trainable params: 101,770\n",
            "Non-trainable params: 0\n",
            "_________________________________________________________________\n",
            "None\n"
          ]
        }
      ]
    },
    {
      "cell_type": "code",
      "source": [
        "#Fitting the above model using Fit()\n",
        "history = model.fit(X_train, y_train, validation_data=(X_test, y_test), epochs=10, batch_size=128)\n"
      ],
      "metadata": {
        "colab": {
          "base_uri": "https://localhost:8080/"
        },
        "id": "Q9k8MRHe1hgV",
        "outputId": "2c0d8d6d-f29c-49bf-b637-2c12d1b70dc2"
      },
      "execution_count": null,
      "outputs": [
        {
          "output_type": "stream",
          "name": "stdout",
          "text": [
            "Epoch 1/10\n",
            "469/469 [==============================] - 4s 6ms/step - loss: 4.3400 - accuracy: 0.8677 - val_loss: 0.9281 - val_accuracy: 0.8925\n",
            "Epoch 2/10\n",
            "469/469 [==============================] - 3s 7ms/step - loss: 0.6018 - accuracy: 0.9066 - val_loss: 0.5585 - val_accuracy: 0.9138\n",
            "Epoch 3/10\n",
            "469/469 [==============================] - 3s 6ms/step - loss: 0.3413 - accuracy: 0.9279 - val_loss: 0.4686 - val_accuracy: 0.9251\n",
            "Epoch 4/10\n",
            "469/469 [==============================] - 3s 6ms/step - loss: 0.2502 - accuracy: 0.9434 - val_loss: 0.4008 - val_accuracy: 0.9333\n",
            "Epoch 5/10\n",
            "469/469 [==============================] - 3s 6ms/step - loss: 0.1946 - accuracy: 0.9527 - val_loss: 0.3763 - val_accuracy: 0.9363\n",
            "Epoch 6/10\n",
            "469/469 [==============================] - 3s 7ms/step - loss: 0.1648 - accuracy: 0.9564 - val_loss: 0.3368 - val_accuracy: 0.9389\n",
            "Epoch 7/10\n",
            "469/469 [==============================] - 3s 6ms/step - loss: 0.1562 - accuracy: 0.9598 - val_loss: 0.3524 - val_accuracy: 0.9375\n",
            "Epoch 8/10\n",
            "469/469 [==============================] - 2s 5ms/step - loss: 0.1378 - accuracy: 0.9640 - val_loss: 0.3222 - val_accuracy: 0.9507\n",
            "Epoch 9/10\n",
            "469/469 [==============================] - 2s 5ms/step - loss: 0.1422 - accuracy: 0.9628 - val_loss: 0.3093 - val_accuracy: 0.9501\n",
            "Epoch 10/10\n",
            "469/469 [==============================] - 2s 5ms/step - loss: 0.1327 - accuracy: 0.9657 - val_loss: 0.3023 - val_accuracy: 0.9496\n"
          ]
        }
      ]
    },
    {
      "cell_type": "code",
      "source": [
        "#predict the test data using predict() fxn\n",
        "y_pred = model.predict(X_test)\n"
      ],
      "metadata": {
        "colab": {
          "base_uri": "https://localhost:8080/"
        },
        "id": "k-UP-BAo10dA",
        "outputId": "46f74a1d-a7be-4822-f7d3-b13754b7f2f2"
      },
      "execution_count": null,
      "outputs": [
        {
          "output_type": "stream",
          "name": "stdout",
          "text": [
            "313/313 [==============================] - 1s 3ms/step\n"
          ]
        }
      ]
    },
    {
      "cell_type": "code",
      "source": [
        "print(y_pred)"
      ],
      "metadata": {
        "colab": {
          "base_uri": "https://localhost:8080/"
        },
        "id": "2ZRnPzUv2KWz",
        "outputId": "737aa9d1-175e-45f3-c158-65966e87a78b"
      },
      "execution_count": null,
      "outputs": [
        {
          "output_type": "stream",
          "name": "stdout",
          "text": [
            "[[0.00000000e+00 0.00000000e+00 2.11071233e-28 ... 9.99999940e-01\n",
            "  4.17803168e-37 1.59104045e-18]\n",
            " [0.00000000e+00 8.73060291e-10 9.99999940e-01 ... 0.00000000e+00\n",
            "  1.72602011e-15 0.00000000e+00]\n",
            " [1.55368739e-24 9.99999940e-01 2.51056231e-20 ... 1.36471820e-10\n",
            "  9.04990118e-17 3.50387073e-22]\n",
            " ...\n",
            " [0.00000000e+00 2.05649449e-33 0.00000000e+00 ... 2.98707364e-10\n",
            "  3.03205191e-26 3.42400619e-09]\n",
            " [3.59311409e-17 2.08250330e-25 9.17226561e-23 ... 1.12155079e-25\n",
            "  1.94102904e-06 7.35765013e-23]\n",
            " [8.39016204e-15 0.00000000e+00 0.00000000e+00 ... 0.00000000e+00\n",
            "  1.27450930e-15 1.06538545e-20]]\n"
          ]
        }
      ]
    },
    {
      "cell_type": "code",
      "source": [
        "\n",
        "# Convert the predicted probabilities to class labels\n",
        "y_pred_labels = np.argmax(y_pred, axis=1)\n",
        "\n",
        "# Plot a few samples of the test data along with their predicted labels\n",
        "fig, axes = plt.subplots(3, 3, figsize=(8, 8))\n",
        "axes = axes.ravel()\n",
        "\n",
        "for i in np.arange(0, 9):\n",
        "    axes[i].imshow(X_test[i].reshape(28, 28), cmap=plt.cm.gray)\n",
        "    axes[i].set_title(\"Prediction = {}\\n True = {}\".format(y_pred_labels[i], np.argmax(y_test[i])))\n",
        "    axes[i].axis('off')\n",
        "    plt.subplots_adjust(wspace=0.5)\n"
      ],
      "metadata": {
        "colab": {
          "base_uri": "https://localhost:8080/",
          "height": 480
        },
        "id": "lHR1C0_j281_",
        "outputId": "16a4341d-f01d-4a0c-bdf6-1b4ef8fec73e"
      },
      "execution_count": null,
      "outputs": [
        {
          "output_type": "display_data",
          "data": {
            "text/plain": [
              "<Figure size 576x576 with 9 Axes>"
            ],
            "image/png": "[encoded data removed]"
          },
          "metadata": {
            "needs_background": "light"
          }
        }
      ]
    },
    {
      "cell_type": "code",
      "source": [
        "#Time Complexity of the code\n",
        "import time\n",
        "\n",
        "start_time = time.time()\n",
        "\n",
        "# Train the model\n",
        "history = model.fit(X_train, y_train, validation_data=(X_test, y_test), epochs=10, batch_size=128)\n",
        "\n",
        "end_time = time.time()\n",
        "\n",
        "# Compute the time complexity of the training loop\n",
        "N = X_train.shape[0]\n",
        "E = 10\n",
        "B = 128\n",
        "C = history.params['epochs'] * N * (model.count_params() + 1)\n",
        "\n",
        "time_complexity = C / (end_time - start_time)\n",
        "\n",
        "print(\"Time complexity: O({:.2f})\".format(time_complexity))\n"
      ],
      "metadata": {
        "colab": {
          "base_uri": "https://localhost:8080/"
        },
        "id": "Ta27q9hu3ge7",
        "outputId": "2cc62760-5f33-4c84-c961-6ab12e21c875"
      },
      "execution_count": null,
      "outputs": [
        {
          "output_type": "stream",
          "name": "stdout",
          "text": [
            "Epoch 1/10\n",
            "469/469 [==============================] - 4s 8ms/step - loss: 0.1257 - accuracy: 0.9673 - val_loss: 0.2813 - val_accuracy: 0.9482\n",
            "Epoch 2/10\n",
            "469/469 [==============================] - 2s 5ms/step - loss: 0.1154 - accuracy: 0.9698 - val_loss: 0.2874 - val_accuracy: 0.9556\n",
            "Epoch 3/10\n",
            "469/469 [==============================] - 2s 5ms/step - loss: 0.1020 - accuracy: 0.9734 - val_loss: 0.2599 - val_accuracy: 0.9581\n",
            "Epoch 4/10\n",
            "469/469 [==============================] - 3s 6ms/step - loss: 0.0989 - accuracy: 0.9737 - val_loss: 0.3020 - val_accuracy: 0.9510\n",
            "Epoch 5/10\n",
            "469/469 [==============================] - 4s 10ms/step - loss: 0.1052 - accuracy: 0.9726 - val_loss: 0.2598 - val_accuracy: 0.9597\n",
            "Epoch 6/10\n",
            "469/469 [==============================] - 3s 6ms/step - loss: 0.1006 - accuracy: 0.9732 - val_loss: 0.2925 - val_accuracy: 0.9565\n",
            "Epoch 7/10\n",
            "469/469 [==============================] - 3s 7ms/step - loss: 0.1002 - accuracy: 0.9739 - val_loss: 0.2834 - val_accuracy: 0.9580\n",
            "Epoch 8/10\n",
            "469/469 [==============================] - 2s 5ms/step - loss: 0.0920 - accuracy: 0.9758 - val_loss: 0.2660 - val_accuracy: 0.9582\n",
            "Epoch 9/10\n",
            "469/469 [==============================] - 4s 8ms/step - loss: 0.0835 - accuracy: 0.9779 - val_loss: 0.2602 - val_accuracy: 0.9603\n",
            "Epoch 10/10\n",
            "469/469 [==============================] - 2s 5ms/step - loss: 0.0794 - accuracy: 0.9790 - val_loss: 0.2629 - val_accuracy: 0.9628\n",
            "Time complexity: O(1974774217.28)\n"
          ]
        }
      ]
    }
  ]
}